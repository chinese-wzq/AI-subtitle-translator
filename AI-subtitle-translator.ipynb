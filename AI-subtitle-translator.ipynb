{
  "cells": [
    {
      "cell_type": "markdown",
      "source": [
        "# 安装依赖"
      ],
      "metadata": {
        "id": "uVU6uoaoLsqd"
      }
    },
    {
      "cell_type": "code",
      "execution_count": null,
      "metadata": {
        "collapsed": true,
        "id": "4L9ogBJb8mS6",
        "jupyter": {
          "outputs_hidden": true
        }
      },
      "outputs": [],
      "source": [
        "import locale\n",
        "def getpreferredencoding(do_setlocale = True):\n",
        "    return \"UTF-8\"\n",
        "locale.getpreferredencoding = getpreferredencoding\n",
        "!pip install pysrt\n",
        "from tqdm import tqdm\n",
        "import pysrt\n",
        "google_drive=False\n",
        "import os"
      ]
    },
    {
      "cell_type": "markdown",
      "metadata": {
        "id": "4mLQai2UV7s4"
      },
      "source": [
        "# 选择翻译方式"
      ]
    },
    {
      "cell_type": "code",
      "execution_count": null,
      "metadata": {
        "cellView": "form",
        "collapsed": true,
        "id": "_Roehqbxe751",
        "jupyter": {
          "outputs_hidden": true
        }
      },
      "outputs": [],
      "source": [
        "#@title 翻译模型翻译方式，同时加载模型，查看可用语言（最后一步的源语言和目标语言只能从可用语言里面选，每个模型可用语言各不相同）\n",
        "!pip install dl_translate\n",
        "import dl_translate as dlt\n",
        "\n",
        "翻译模型 = \"facebook/nllb-200-distilled-600M\" # @param [\"facebook/m2m100_418M\", \"facebook/mbart-large-50-many-to-many-mmt\", \"facebook/nllb-200-distilled-600M\"]\n",
        "\n",
        "mt = dlt.TranslationModel(翻译模型,device=\"auto\")\n",
        "print(\"可用语言：\")\n",
        "print(\"\\n\".join(mt.available_languages()))"
      ]
    },
    {
      "cell_type": "code",
      "execution_count": null,
      "metadata": {
        "cellView": "form",
        "collapsed": true,
        "id": "XmHk-1qefFWD",
        "jupyter": {
          "outputs_hidden": true
        }
      },
      "outputs": [],
      "source": [
        "#@title 谷歌翻译方式（免费调用，不稳定，最后一步的源语言和目标语言只能从可用语言里面选）\n",
        "!pip install googletrans==3.1.0a0\n",
        "import googletrans\n",
        "translator = googletrans.Translator()\n",
        "print(\"可用语言：\")\n",
        "print(\"\\n\".join(googletrans.LANGUAGES))"
      ]
    },
    {
      "cell_type": "code",
      "execution_count": null,
      "metadata": {
        "id": "IZKUencSOo0R",
        "cellView": "form"
      },
      "outputs": [],
      "source": [
        "#@title ChatGLM3翻译方式（系统提示词中\"{}\"将被替换为目标语言）\n",
        "系统提示词 = \"\\u4F60\\u662F\\u4E00\\u4E2A\\u4E13\\u4E1A\\u7684\\u7FFB\\u8BD1\\uFF0C\\u4F60\\u9700\\u8981\\u4FDD\\u7559unity\\u4E13\\u7528\\u672F\\u8BED\\u4E0D\\u7FFB\\u8BD1\\uFF0C\\u5176\\u5B83\\u6240\\u6709\\u8BCD\\u90FD\\u5FC5\\u987B\\u7FFB\\u8BD1\\u3002\\u8BF7\\u9010\\u884C\\u7FFB\\u8BD1\\u4E0B\\u9762\\u7684\\u6587\\u672C\\u5230{0}\\uFF0C\\u6CE8\\u610F\\u4FDD\\u7559\\u6570\\u5B57\\u548C\\u6362\\u884C\\u7B26\\uFF0C\\u8BF7\\u52FF\\u81EA\\u884C\\u521B\\u5EFA\\u5185\\u5BB9\\uFF0C\\u9664\\u4E86\\u7FFB\\u8BD1\\uFF0C\\u4E0D\\u8981\\u8F93\\u51FA\\u4EFB\\u4F55\\u5176\\u4ED6\\u6587\\u672C\\u3002\" #@param {type: \"string\"}\n",
        "!pip install transformers sentencepiece\n",
        "from transformers import AutoTokenizer, AutoModel\n",
        "tokenizer = AutoTokenizer.from_pretrained(\"THUDM/chatglm3-6b\", trust_remote_code=True)\n",
        "model = AutoModel.from_pretrained(\"THUDM/chatglm3-6b\", trust_remote_code=True, device='cuda')\n",
        "model = model.eval()\n"
      ]
    },
    {
      "cell_type": "markdown",
      "source": [
        "# 连接到谷歌云盘"
      ],
      "metadata": {
        "id": "Zd1JbOwXGErL"
      }
    },
    {
      "cell_type": "code",
      "execution_count": null,
      "metadata": {
        "collapsed": true,
        "id": "Nv8Q47mRv-t7",
        "jupyter": {
          "outputs_hidden": true
        }
      },
      "outputs": [],
      "source": [
        "from google.colab import drive\n",
        "drive.mount('/content/drive')\n",
        "google_drive=True\n",
        "谷歌云盘保存到 = '/content/drive/MyDrive/ChatGLM3\\u7FFB\\u8BD1.srt'  #@param {type: \"string\"}"
      ]
    },
    {
      "cell_type": "markdown",
      "metadata": {
        "id": "zUbi83308mS9"
      },
      "source": [
        "# 翻译"
      ]
    },
    {
      "cell_type": "code",
      "execution_count": null,
      "metadata": {
        "id": "DFYpgf6fCtfb"
      },
      "outputs": [],
      "source": [
        "源文件 = '\\u539F\\u89C6\\u9891.srt'  #@param {type: \"string\"}\n",
        "保存到 = '翻译.srt'  #@param {type: \"string\"}\n",
        "源语言 = 'en'  #@param {type: \"string\"}\n",
        "目标语言 = 'zh-cn'  #@param {type: \"string\"}\n",
        "翻译方式 = \"\\u8C37\\u6B4C\\u7FFB\\u8BD1\" #@param [\"谷歌翻译\", \"大模型翻译\",\"ChatGLM3翻译\",\"不翻译\"]\n",
        "恢复文件 = '\\u6062\\u590D\\u6587\\u4EF6.srt'  #@param {type: \"string\"}\n",
        "恢复间隔 = 20  #@param {type: \"integer\"}\n",
        "\n",
        "def translate(sentence):\n",
        "    if 翻译方式==\"大模型翻译\":\n",
        "        return mt.translate(sentence, source=源语言, target=目标语言)\n",
        "    elif 翻译方式==\"谷歌翻译\":\n",
        "        return translator.translate(sentence, src=源语言, dest=目标语言).text\n",
        "    elif 翻译方式==\"ChatGLM3翻译\":\n",
        "        response,now_history=model.chat(tokenizer,sentence,top_p=1,temperature=0.01,history=[{\"role\": \"system\", \"content\": 系统提示词.format(目标语言)}])\n",
        "        return response\n",
        "    elif 翻译方式==\"不翻译\":\n",
        "        return sentence\n",
        "def merge_and_translate_with_progress(subtitles):\n",
        "    current_sentence = \"\"\n",
        "    current_start = None\n",
        "    current_end = None\n",
        "\n",
        "    # 是否进行恢复\n",
        "    if 恢复文件:\n",
        "        if not os.path.exists(恢复文件):\n",
        "            # Create the file if it does not exist\n",
        "            with open(恢复文件, \"w\") as f:pass\n",
        "        # 读取恢复文件\n",
        "        recovered_subs = pysrt.open(恢复文件, encoding='utf-8')\n",
        "        recover_index = 0\n",
        "        if len(recovered_subs)!=0:\n",
        "            # 找到恢复位置，跳过已翻译部分\n",
        "            for i, sub in enumerate(subtitles):\n",
        "                if sub.end == recovered_subs[-1].end:\n",
        "                    recover_index = i + 1\n",
        "                    break\n",
        "        translated_subs = recovered_subs\n",
        "    else:\n",
        "        recover_index = 0\n",
        "        translated_subs = pysrt.SubRipFile()\n",
        "\n",
        "    # 使用 tqdm 显示进度条\n",
        "    progress_bar = tqdm(total=len(subtitles)-recover_index, desc=\"翻译中\", unit=\"个\", mininterval=5)\n",
        "\n",
        "    for i in range(recover_index, len(subtitles)):\n",
        "        now_sub=subtitles[i]\n",
        "        if i<len(subtitles)-1:\n",
        "            next_sub=subtitles[i+1]\n",
        "        #分割条件：当前句子结尾有“.”，下一个句子start与当前句子end不相等，已经是最后一个句子\n",
        "        #若符合条件，则对当前句子进行分割\n",
        "        if current_start is None:\n",
        "            current_start=now_sub.start\n",
        "        current_end=now_sub.end\n",
        "        current_sentence+=now_sub.text+\" \"\n",
        "        if i==len(subtitles)-1 or now_sub.text[-1]==\".\" or next_sub.start!=now_sub.end:\n",
        "            translated_text = translate(current_sentence.strip())\n",
        "            # 创建新的字幕项并添加到结果\n",
        "            translated_sub = pysrt.SubRipItem(index=len(translated_subs) + 1,\n",
        "                                             start=current_start, end=current_end,\n",
        "                                             text=translated_text)\n",
        "            translated_subs.append(translated_sub)\n",
        "\n",
        "            # 重置参数\n",
        "            current_sentence = \"\"\n",
        "            current_start = None\n",
        "            current_end = None\n",
        "\n",
        "            if 恢复文件 and (i + 1) % 恢复间隔 == 0:\n",
        "                translated_subs.save(恢复文件, encoding='utf-8')\n",
        "        # 更新进度条\n",
        "        progress_bar.update(1)\n",
        "\n",
        "    # 关闭进度条\n",
        "    progress_bar.close()\n",
        "\n",
        "    return translated_subs\n",
        "\n",
        "# 读取SRT文件\n",
        "subs = pysrt.open(源文件, encoding='utf-8')\n",
        "\n",
        "# 获取翻译后的字幕\n",
        "translated_subs = merge_and_translate_with_progress(subs)\n",
        "\n",
        "# 保存翻译后的SRT文件\n",
        "translated_subs.save(保存到, encoding='utf-8')\n",
        "if google_drive:\n",
        "  translated_subs.save(谷歌云盘保存到, encoding='utf-8')"
      ]
    }
  ],
  "metadata": {
    "accelerator": "GPU",
    "colab": {
      "gpuType": "T4",
      "provenance": [],
      "toc_visible": true
    },
    "kernelspec": {
      "display_name": "Python 3 (ipykernel)",
      "language": "python",
      "name": "python3"
    },
    "language_info": {
      "codemirror_mode": {
        "name": "ipython",
        "version": 3
      },
      "file_extension": ".py",
      "mimetype": "text/x-python",
      "name": "python",
      "nbconvert_exporter": "python",
      "pygments_lexer": "ipython3",
      "version": "3.11.6"
    }
  },
  "nbformat": 4,
  "nbformat_minor": 0
}